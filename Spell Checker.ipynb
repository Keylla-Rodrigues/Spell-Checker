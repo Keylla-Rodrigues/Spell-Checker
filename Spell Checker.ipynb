{
 "cells": [
  {
   "cell_type": "code",
   "execution_count": null,
   "id": "0ea15f95",
   "metadata": {},
   "outputs": [],
   "source": [
    "from textblob import Word      #Word() representacao p/textblob biblioteca/tem diferentes metodos. Um deles eh correcao\n",
    "\n",
    "#Definir uma palavra em ingles escrita erradamente para ser corrigida\n",
    "word = Word('speling')\n",
    "\n",
    "#Corrigir ortografia\n",
    "result = word.correct()\n",
    "print(result)\n"
   ]
  },
  {
   "cell_type": "markdown",
   "id": "402f91f0",
   "metadata": {},
   "source": [
    "## Programa para corrigir a ortografia de uma palavra"
   ]
  },
  {
   "cell_type": "code",
   "execution_count": null,
   "id": "72ad2a01",
   "metadata": {},
   "outputs": [],
   "source": [
    "from textblob import Word     # textblob = library & Word() = palavra simples\n",
    "\n",
    "\n",
    "def correta_ortografia(word):\n",
    "    \n",
    "    word = Word(word)\n",
    "    \n",
    "    result = word.correct()\n",
    "    \n",
    "    print(result)\n",
    "\n",
    "\n",
    "correta_ortografia('receivi')"
   ]
  },
  {
   "cell_type": "markdown",
   "id": "6ac7aba4",
   "metadata": {},
   "source": [
    "## Programa para corrigir a ortografia de uma frase"
   ]
  },
  {
   "cell_type": "code",
   "execution_count": null,
   "id": "2c8f5d90",
   "metadata": {},
   "outputs": [],
   "source": [
    "from textblob import TextBlob  #textblob = library & TextBlob() = simples bloco de texto\n",
    "\n",
    "frase = TextBlob('Python is one of the most frieendlly proograming language!')\n",
    "\n",
    "result = frase.correct()\n",
    "\n",
    "print(result)\n"
   ]
  },
  {
   "cell_type": "code",
   "execution_count": null,
   "id": "bd89b121",
   "metadata": {},
   "outputs": [],
   "source": [
    "from textblob import TextBlob\n",
    "\n",
    "def correct_sentence_spelling(sentence):\n",
    "    \n",
    "    sentence = TextBlob(sentence)\n",
    "    \n",
    "    result = sentence.correct()\n",
    "    \n",
    "    print(result)\n",
    "\n",
    "\n",
    "correct_sentence_spelling('Python is one of the most frieendlly proograming language!')"
   ]
  },
  {
   "cell_type": "markdown",
   "id": "8e09e68b",
   "metadata": {},
   "source": [
    "## Criando interface with Tkinter"
   ]
  },
  {
   "cell_type": "code",
   "execution_count": null,
   "id": "242a690c",
   "metadata": {},
   "outputs": [],
   "source": [
    "from textblob import Word     # textblob = library & Word() = palavra simples\n",
    "import tkinter as tk\n",
    "\n",
    "janela = tk.Tk()\n",
    "janela.title(\"Spell Cheker\")\n",
    "janela.rowconfigure(0, weight=1)             #ajustar automaticam. c a janela\n",
    "janela.columnconfigure([0, 1], weight=2)     # ajustar a janela as 2 colunas simultaneamente e weight ajuste automatic.\n",
    "\n",
    "mensagem = tk.Label(text=\"WELCOME TO YOUR ENGLISH SPELL CHECKER\", fg=\"white\", bg=\"black\", width=55, height=5)     \n",
    "                                                              #Passo 1: criar objeto \n",
    "#mensagem.pack()                                              #Passo 2: colocar esse objeto dentro da janela\n",
    "mensagem.grid(row=0, column=0, columnspan=2, sticky=\"NSEW\")   #configurar linha e coluna                                                                          #Passo 2: colocar esse objeto dentro da janela\n",
    "                                                              #columnspan = diz qtas colunas o object ocupara \n",
    "                                                              #row = linhas ocupara\n",
    "                                                              #sticky = ajustar a medida que a janela aumenta (Nort,sul etc)\n",
    "\n",
    "\n",
    "mensagem2 = tk.Label(text=\"1) Type your word or sentence in English here:\") #definir a explicacao p/usuario iniciar o processo\n",
    "mensagem2.grid(row=1, column=0, columnspan=2, sticky=\"NSEW\")      \n",
    "\n",
    "box_type1 = tk.Text(width=15, height=5)                        #criar a caixa de texto p/ ususario digitar\n",
    "box_type1.grid(row=5, column=0, columnspan=2, sticky=\"NSEW\") \n",
    "\n",
    "\n",
    "\n",
    "word = tk.Entry()                                             # criar o botao enter\n",
    "word.grid(row=5, column=0, columnspan=2, sticky=\"NSEW\")  \n",
    "\n",
    "\n",
    "\n",
    "#reset = tk.Reset()\n",
    "#reset.grid(row=5, column=1, columnspan=2, sticky=\"NSEW\")  \n",
    "\n",
    "\n",
    "\n",
    "def check_word():\n",
    "    print(word.get())\n",
    "\n",
    "    \n",
    "\n",
    "button = tk.Button(text=\"2) Enter\", command=check_word)         # mostrar o botao \"enter\"     \n",
    "button.grid(row=6, column=0, sticky=\"NSEW\")     \n",
    "\n",
    "\n",
    "mensagem3 = tk.Label(text=\"3) Check your correct answer here:\")           #definir a explicacao p/ver a resposta\n",
    "mensagem3.grid(row=7, column=0, columnspan=2, sticky=\"NSEW\")     \n",
    "\n",
    "box_type2 = tk.Text(width=15, height=5)                             #criar a 2a caixa de texto p/ mostrar a resposta certa\n",
    "box_type2.grid(row=75, column=0, columnspan=2, sticky=\"NSEW\") \n",
    "\n",
    "\n",
    "janela.mainloop()\n",
    "\n"
   ]
  }
 ],
 "metadata": {
  "kernelspec": {
   "display_name": "Python 3",
   "language": "python",
   "name": "python3"
  },
  "language_info": {
   "codemirror_mode": {
    "name": "ipython",
    "version": 3
   },
   "file_extension": ".py",
   "mimetype": "text/x-python",
   "name": "python",
   "nbconvert_exporter": "python",
   "pygments_lexer": "ipython3",
   "version": "3.8.8"
  }
 },
 "nbformat": 4,
 "nbformat_minor": 5
}
