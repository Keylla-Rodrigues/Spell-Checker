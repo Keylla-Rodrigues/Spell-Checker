{
 "cells": [
  {
   "cell_type": "code",
   "execution_count": null,
   "id": "0ea15f95",
   "metadata": {},
   "outputs": [],
   "source": [
    "from textblob import Word      #Word() representacao p/textblob biblioteca/tem diferentes metodos. Um deles eh correcao\n",
    "\n",
    "#Definir uma palavra em ingles escrita erradamente para ser corrigida\n",
    "word = Word('speling')\n",
    "\n",
    "#Corrigir ortografia\n",
    "result = word.correct()\n",
    "print(result)\n"
   ]
  },
  {
   "cell_type": "markdown",
   "id": "402f91f0",
   "metadata": {},
   "source": [
    "## Programa para corrigir a ortografia de uma palavra"
   ]
  },
  {
   "cell_type": "code",
   "execution_count": null,
   "id": "72ad2a01",
   "metadata": {},
   "outputs": [],
   "source": [
    "from textblob import Word     # textblob = library & Word() = palavra simples\n",
    "\n",
    "\n",
    "def correta_ortografia(word):\n",
    "    \n",
    "    word = Word(word)\n",
    "    \n",
    "    result = word.correct()\n",
    "    \n",
    "    print(result)\n",
    "\n",
    "\n",
    "correta_ortografia('receivi')"
   ]
  },
  {
   "cell_type": "markdown",
   "id": "6ac7aba4",
   "metadata": {},
   "source": [
    "## Programa para corrigir a ortografia de uma frase"
   ]
  },
  {
   "cell_type": "code",
   "execution_count": null,
   "id": "2c8f5d90",
   "metadata": {},
   "outputs": [],
   "source": [
    "from textblob import TextBlob  #textblob = library & TextBlob() = simples bloco de texto\n",
    "\n",
    "frase = TextBlob('Python is one of the most frieendlly proograming language!')\n",
    "\n",
    "result = frase.correct()\n",
    "\n",
    "print(result)\n"
   ]
  },
  {
   "cell_type": "code",
   "execution_count": null,
   "id": "bd89b121",
   "metadata": {},
   "outputs": [],
   "source": [
    "from textblob import TextBlob\n",
    "\n",
    "def correct_sentence_spelling(sentence):\n",
    "    \n",
    "    sentence = TextBlob(sentence)\n",
    "    \n",
    "    result = sentence.correct()\n",
    "    \n",
    "    print(result)\n",
    "\n",
    "\n",
    "correct_sentence_spelling('Python is one of the most frieendlly proograming language!')"
   ]
  },
  {
   "cell_type": "markdown",
   "id": "8e09e68b",
   "metadata": {},
   "source": [
    "## Criando interface with Tkinter"
   ]
  },
  {
   "cell_type": "code",
   "execution_count": 6,
   "id": "d19aa97e",
   "metadata": {},
   "outputs": [
    {
     "name": "stdout",
     "output_type": "stream",
     "text": [
      "2967159503840 <class 'tkinter.Tk'>\n"
     ]
    }
   ],
   "source": [
    "import tkinter as tk\n",
    "\n",
    "janela = tk.Tk()\n",
    "janela.title(\"Spell Cheker\")\n",
    "\n",
    "mensagem = tk.Label(text=\"Spell Cheker\", fg=\"white\", bg=\"black\", width=40, height=10)     #Passo 1: criar objeto \n",
    "mensagem.pack()                                                                            #Passo 2: colocar esse objeto dentro da janela\n",
    "\n",
    "\n",
    "mensagem2 = tk.Label(text=\"Type your word or your sentence here\")\n",
    "mensagem2.pack() \n",
    "\n",
    "word = tk.Entry()\n",
    "word.pack()\n",
    "\n",
    "\n",
    "janela.mainloop()"
   ]
  }
 ],
 "metadata": {
  "kernelspec": {
   "display_name": "Python 3",
   "language": "python",
   "name": "python3"
  },
  "language_info": {
   "codemirror_mode": {
    "name": "ipython",
    "version": 3
   },
   "file_extension": ".py",
   "mimetype": "text/x-python",
   "name": "python",
   "nbconvert_exporter": "python",
   "pygments_lexer": "ipython3",
   "version": "3.8.8"
  }
 },
 "nbformat": 4,
 "nbformat_minor": 5
}
