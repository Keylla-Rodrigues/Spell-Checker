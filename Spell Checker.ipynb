{
 "cells": [
  {
   "cell_type": "markdown",
   "id": "402f91f0",
   "metadata": {},
   "source": [
    "### Programa para corrigir a ortografia de uma palavra/frase em ingles"
   ]
  },
  {
   "cell_type": "code",
   "execution_count": 14,
   "id": "242a690c",
   "metadata": {},
   "outputs": [],
   "source": [
    "from textblob import Word     # textblob = library & Word() = palavra simples\n",
    "from textblob import TextBlob\n",
    "import tkinter as tk\n",
    "from tkinter import *\n",
    "from tkinter import messagebox\n",
    "\n",
    "\n",
    "def correct_sentence_spelling():\n",
    "    sentence = TextBlob(box_type1.get())\n",
    "    result = sentence.correct()\n",
    "    box_type2.insert(END, result)\n",
    "\n",
    "\n",
    "\n",
    "janela = tk.Tk()\n",
    "janela.title(\"Spell Cheker\")\n",
    "janela.rowconfigure(0, weight=1)             #ajustar automaticam. c a janela\n",
    "janela.columnconfigure([0, 1], weight=2)     #ajustar a janela as 2 colunas simultaneamente e weight ajuste automatic.\n",
    "\n",
    "\n",
    "mensagem = tk.Label(text=\"WELCOME TO YOUR ENGLISH SPELL CHECKER\", fg=\"white\", bg=\"black\", width=55, height=5)     \n",
    "mensagem.grid(row=0, column=0, columnspan=2, sticky=\"NSEW\")                                                               #Passo 1: criar objeto \n",
    "                                                              #Passo 2: colocar esse objeto dentro da janela\n",
    "                                                              #configurar linha e coluna                                                                          #Passo 2: colocar esse objeto dentro da janela\n",
    "                                                              #columnspan = diz qtas colunas o object ocupara \n",
    "                                                              #row = linhas ocupara\n",
    "                                                              #sticky = ajustar a medida que a janela aumenta (Nort,sul etc)\n",
    "    \n",
    "\n",
    "mensagem1 = tk.Label(text=\"Type your word or sentence in English here:\") #definir a explicacao p/usuario iniciar o processo\n",
    "mensagem1.grid(row=1, column=0, columnspan=2, sticky=\"NSEW\")      \n",
    "\n",
    "box_type1 = tk.Entry(width=15)                             #criar a caixa de texto p/ ususario digitar\n",
    "box_type1.grid(row=5, column=0, columnspan=2, sticky=\"NSEW\") \n",
    "\n",
    "\n",
    "button = tk.Button(text=\"Enter\", command=correct_sentence_spelling)   # mostrar o botao \"enter\"     \n",
    "button.grid(row=6, column=0, sticky=\"NSEW\")     \n",
    "\n",
    "\n",
    "mensagem2 = tk.Label(text=\"Check your correct answer here:\")           #definir a explicacao p/ver a resposta\n",
    "mensagem2.grid(row=7, column=0, columnspan=2, sticky=\"NSEW\")     \n",
    "\n",
    "\n",
    "box_type2 = tk.Text(width=15, height=5)                             #criar a 2a caixa de texto p/ mostrar a resposta certa\n",
    "box_type2.grid(row=75, column=0, columnspan=2, sticky=\"NSEW\") \n",
    "\n",
    "\n",
    "janela.mainloop()\n",
    "\n"
   ]
  }
 ],
 "metadata": {
  "kernelspec": {
   "display_name": "Python 3",
   "language": "python",
   "name": "python3"
  },
  "language_info": {
   "codemirror_mode": {
    "name": "ipython",
    "version": 3
   },
   "file_extension": ".py",
   "mimetype": "text/x-python",
   "name": "python",
   "nbconvert_exporter": "python",
   "pygments_lexer": "ipython3",
   "version": "3.8.8"
  }
 },
 "nbformat": 4,
 "nbformat_minor": 5
}
